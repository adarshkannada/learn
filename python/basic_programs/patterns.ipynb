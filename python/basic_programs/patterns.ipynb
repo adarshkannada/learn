{
 "cells": [
  {
   "cell_type": "code",
   "execution_count": 2,
   "id": "4a6c7f50-97b1-4c36-bc32-221117898660",
   "metadata": {},
   "outputs": [
    {
     "name": "stdin",
     "output_type": "stream",
     "text": [
      "enter number of rows:  5\n"
     ]
    }
   ],
   "source": [
    "# triangle size input from user\n",
    "size = int(input(\"enter number of rows: \"))"
   ]
  },
  {
   "cell_type": "code",
   "execution_count": null,
   "id": "d9b7fdbf-a169-42f0-b5b7-5d68fcfd8f13",
   "metadata": {},
   "outputs": [],
   "source": [
    "# code to print triangle pattern\n",
    "size = int(input(\"enter number of rows: \"))\n",
    "for i in range(size):\n",
    "    for j in range(i+1):\n",
    "        print(\" * \",end=\"\")\n",
    "    print()"
   ]
  },
  {
   "cell_type": "code",
   "execution_count": 18,
   "id": "7fa2a20e-1748-447b-aac0-02a68dc1ea6a",
   "metadata": {},
   "outputs": [
    {
     "name": "stdin",
     "output_type": "stream",
     "text": [
      "enter number of rows:  5\n"
     ]
    },
    {
     "name": "stdout",
     "output_type": "stream",
     "text": [
      " *  *  *  *  * \n",
      " *  *  *  * \n",
      " *  *  * \n",
      " *  * \n",
      " * \n"
     ]
    }
   ],
   "source": [
    "# code to print reverse triangle pattern\n",
    "size = int(input(\"enter number of rows: \"))\n",
    "for i in range(size):\n",
    "    for j in range(i, size):\n",
    "        print(\" * \",end=\"\")\n",
    "    print()"
   ]
  },
  {
   "cell_type": "code",
   "execution_count": 27,
   "id": "49579024-2814-427c-828f-b1999e4a971e",
   "metadata": {},
   "outputs": [
    {
     "name": "stdout",
     "output_type": "stream",
     "text": [
      "      *\n",
      "     * *\n",
      "    * * *\n",
      "   * * * *\n",
      "  * * * * *\n"
     ]
    }
   ],
   "source": [
    "for i in range(size):\n",
    "    for j in range(i, size):\n",
    "        print(\" \",end=\"\")\n",
    "    for j in range(i+1):\n",
    "        print(\" *\",end=\"\")\n",
    "    print()"
   ]
  },
  {
   "cell_type": "code",
   "execution_count": 38,
   "id": "1135befc-d39e-4d9b-a923-334835aba2b6",
   "metadata": {},
   "outputs": [
    {
     "name": "stdout",
     "output_type": "stream",
     "text": [
      "     *\n",
      "    ***\n",
      "   *****\n",
      "  *******\n",
      " *********\n"
     ]
    }
   ],
   "source": [
    "# 1. decreasing space, 2. increasing star, 3. increasing star,\n",
    "# but second loop for increasing start has range till i, this\n",
    "# helps to print one less column and gives the triangle a peak.\n",
    "for i in range(size):\n",
    "    for j in range(i, size):\n",
    "        print(\" \",end=\"\")\n",
    "    for j in range(i):\n",
    "        print(\"*\",end=\"\")\n",
    "    for j in range(i+1):\n",
    "        print(\"*\",end=\"\")\n",
    "    print()\n",
    "    \n"
   ]
  },
  {
   "cell_type": "code",
   "execution_count": 29,
   "id": "eefa1a3c-62e1-4669-86e4-cb2ec7ac57c7",
   "metadata": {},
   "outputs": [
    {
     "name": "stdout",
     "output_type": "stream",
     "text": [
      " *****\n",
      "  ****\n",
      "   ***\n",
      "    **\n",
      "     *\n"
     ]
    }
   ],
   "source": [
    "# 1. increasing space triangle, 2. decreasing star triangle\n",
    "\n",
    "for i in range(size):\n",
    "    for j in range(i+1):\n",
    "        print(\" \",end=\"\")\n",
    "    for j in range(i, size):\n",
    "        print(\"*\",end=\"\")\n",
    "    print()"
   ]
  },
  {
   "cell_type": "code",
   "execution_count": 5,
   "id": "7d35567b-a6bd-48a3-89e9-b5230be9169c",
   "metadata": {},
   "outputs": [
    {
     "name": "stdout",
     "output_type": "stream",
     "text": [
      " *********\n",
      "  *******\n",
      "   *****\n",
      "    ***\n",
      "     *\n"
     ]
    }
   ],
   "source": [
    "# 1. increasing space, 2. decreasing star, 3. decreasing star,\n",
    "# but second loop for increasing start has range till n-1 , this\n",
    "# helps to print one less column and gives the triangle a peak.\n",
    "for i in range(size):\n",
    "    for j in range(i+1):\n",
    "        print(\" \",end=\"\")\n",
    "    for j in range(i, size -1):\n",
    "        print(\"*\",end=\"\")\n",
    "    for j in range(i, size):\n",
    "        print(\"*\",end=\"\")\n",
    "    print()"
   ]
  },
  {
   "cell_type": "code",
   "execution_count": 9,
   "id": "0864b08b-e586-4fb7-b3f3-4a34da245261",
   "metadata": {},
   "outputs": [
    {
     "name": "stdout",
     "output_type": "stream",
     "text": [
      "     *\n",
      "    ***\n",
      "   *****\n",
      "  *******\n",
      " *********\n",
      "  *******\n",
      "   *****\n",
      "    ***\n",
      "     *\n"
     ]
    }
   ],
   "source": [
    "# Diamond pattern\n",
    "\n",
    "for i in range(size - 1):\n",
    "    for j in range(i, size):\n",
    "        print(\" \",end=\"\")\n",
    "    for j in range(i):\n",
    "        print(\"*\",end=\"\")\n",
    "    for j in range(i+1):\n",
    "        print(\"*\",end=\"\")\n",
    "    print()\n",
    "for i in range(size):\n",
    "    for j in range(i+1):\n",
    "        print(\" \",end=\"\")\n",
    "    for j in range(i, size -1):\n",
    "        print(\"*\",end=\"\")\n",
    "    for j in range(i, size):\n",
    "        print(\"*\",end=\"\")\n",
    "    print()"
   ]
  },
  {
   "cell_type": "code",
   "execution_count": null,
   "id": "1ecdcf9e-b8f3-40ff-8265-6aca1e16c633",
   "metadata": {},
   "outputs": [],
   "source": []
  }
 ],
 "metadata": {
  "kernelspec": {
   "display_name": "Python 3 (ipykernel)",
   "language": "python",
   "name": "python3"
  },
  "language_info": {
   "codemirror_mode": {
    "name": "ipython",
    "version": 3
   },
   "file_extension": ".py",
   "mimetype": "text/x-python",
   "name": "python",
   "nbconvert_exporter": "python",
   "pygments_lexer": "ipython3",
   "version": "3.10.6"
  }
 },
 "nbformat": 4,
 "nbformat_minor": 5
}
